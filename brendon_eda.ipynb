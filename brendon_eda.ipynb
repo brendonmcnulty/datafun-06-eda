{
 "cells": [
  {
   "cell_type": "markdown",
   "id": "5285a75f",
   "metadata": {},
   "source": [
    "# Exploratory Data Analysis (EDA)\n",
    "\n",
    "**Author:** Brendon McNulty  \n",
    "**Date:** September 30, 2025  \n",
    "\n",
    "**Purpose:**  \n",
    "This notebook performs a custom exploratory data analysis project using Python, pandas, matplotlib, and seaborn. The goal is to explore a dataset, analyze its structure, and tell a data story through visualizations.\n"
   ]
  },
  {
   "cell_type": "code",
   "execution_count": 1,
   "id": "0dde8cce",
   "metadata": {},
   "outputs": [],
   "source": [
    "# Import required libraries for data analysis and visualization\n",
    "import pandas as pd        # Data manipulation and analysis\n",
    "import seaborn as sns      # Statistical data visualization\n",
    "import matplotlib.pyplot as plt  # Core plotting library\n",
    "\n"
   ]
  }
 ],
 "metadata": {
  "kernelspec": {
   "display_name": ".venv (3.13.7)",
   "language": "python",
   "name": "python3"
  },
  "language_info": {
   "codemirror_mode": {
    "name": "ipython",
    "version": 3
   },
   "file_extension": ".py",
   "mimetype": "text/x-python",
   "name": "python",
   "nbconvert_exporter": "python",
   "pygments_lexer": "ipython3",
   "version": "3.13.7"
  }
 },
 "nbformat": 4,
 "nbformat_minor": 5
}
